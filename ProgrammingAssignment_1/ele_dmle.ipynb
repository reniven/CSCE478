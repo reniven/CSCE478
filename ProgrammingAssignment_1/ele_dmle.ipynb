{
 "cells": [
  {
   "cell_type": "markdown",
   "metadata": {},
   "source": [
    "# *k*-Nearest Neighbor\n",
    "\n",
    "We'll implement *k*-Nearest Neighbor (*k*-NN) algorithm for this assignment. We will use the **madelon** dataset as in Programming Assignment 0.  \n",
    "\n",
    "A skeleton of a general supervised learning model is provided in \"model.ipynb\". The functions that will be implemented there will be indicated in this notebook. \n",
    "\n",
    "### Assignment Goals:\n",
    "In this assignment, we will:\n",
    "* implement 'Euclidean' and 'Manhattan' distance metrics \n",
    "* use the validation dataset to find a good value for *k*\n",
    "* evaluate our model with respect to performance measures:\n",
    "    * accuracy, generalization error\n",
    "    * confusion matrix\n",
    "    *  Receiver Operating Characteristic (ROC) curve\n",
    "* try to assess if *k*-NN is suitable for the dataset\n",
    "\n",
    "## Note:\n",
    "\n",
    "You are not required to follow this exact template. You can change what parameters your functions take or partition the tasks across functions differently. However, make sure there are outputs and implementation for items listed in the rubric for each task. Also, indicate in code with comments which task you are attempting."
   ]
  },
  {
   "cell_type": "markdown",
   "metadata": {},
   "source": [
    "# GRADING\n",
    "\n",
    "You will be graded on parts that are marked with **TODO** comments. Read the comments in the code to make sure you don't miss any.\n",
    "\n",
    "### Mandatory for 478 & 878:\n",
    "\n",
    "|   | Tasks                      | 478 | 878 |\n",
    "|---|----------------------------|-----|-----|\n",
    "| 1 | Implement `distance`       |  15 |  15 |\n",
    "| 2 | Implement `k-NN` methods   |  35 |  30 |\n",
    "| 3 | Model evaluation           |  25 |  20 |\n",
    "| 5 | ROC curve analysis         |  25 |  25 |\n",
    "\n",
    "### Mandatory for 878, bonus for 478\n",
    "\n",
    "|   | Tasks          | 478 | 878 |\n",
    "|---|----------------|-----|-----|\n",
    "| 4 | Optimizing *k* | 10  | 10  |\n",
    "\n",
    "### Bonus for 478/878\n",
    "\n",
    "|   | Tasks          | 478 | 878 |\n",
    "|---|----------------|-----|-----|\n",
    "| 6 | Assess suitability of *k*-NN | 10  | 10  |\n",
    "\n",
    "Points are broken down further below in Rubric sections. The **first** score is for 478, the **second** is for 878 students. There are a total of 100 points in this assignment and extra 20 bonus points for 478 students and 10 bonus points for 878 students."
   ]
  },
  {
   "cell_type": "markdown",
   "metadata": {},
   "source": [
    "# YOUR GRADE\n",
    "\n",
    "### Group Members: Eric Le, Duc Le\n",
    "\n",
    "|   | Tasks                      | Points |\n",
    "|---|----------------------------|-----|\n",
    "| 1 | Implement `distance`       |     |\n",
    "| 2 | Implement `k-NN` methods   |     |\n",
    "| 3 | Model evaluation           |     |\n",
    "| 4 | Optimizing *k*             |     |\n",
    "| 5 | ROC curve analysis         |     |\n",
    "| 6 | Assess suitability of *k*-NN|    |\n",
    "\n"
   ]
  },
  {
   "cell_type": "markdown",
   "metadata": {},
   "source": [
    "You can use numpy for array operations and matplotlib for plotting for this assignment. Please do not add other libraries."
   ]
  },
  {
   "cell_type": "code",
   "execution_count": 1,
   "metadata": {
    "collapsed": true
   },
   "outputs": [],
   "source": [
    "import numpy as np\n",
    "import matplotlib.pyplot as plt"
   ]
  },
  {
   "cell_type": "markdown",
   "metadata": {},
   "source": [
    "Following code makes the Model class and relevant functions available from model.ipynb."
   ]
  },
  {
   "cell_type": "code",
   "execution_count": 10,
   "metadata": {
    "collapsed": true
   },
   "outputs": [],
   "source": [
    "%run model.ipynb"
   ]
  },
  {
   "cell_type": "markdown",
   "metadata": {},
   "source": [
    "## TASK 1: Implement `distance` function"
   ]
  },
  {
   "cell_type": "markdown",
   "metadata": {},
   "source": [
    "Choice of distance metric plays an important role in the performance of *k*-NN. Let's start with implementing a distance method  in the \"distance\" function in **model.ipynb**. It should take two data points and the name of the metric and return a scalar value."
   ]
  },
  {
   "cell_type": "markdown",
   "metadata": {},
   "source": [
    "### Rubric:\n",
    "* Euclidean +7.5, +7.5\n",
    "* Manhattan +7.5, +7.5"
   ]
  },
  {
   "cell_type": "markdown",
   "metadata": {},
   "source": [
    "### Test `distance`"
   ]
  },
  {
   "cell_type": "code",
   "execution_count": 11,
   "metadata": {},
   "outputs": [
    {
     "name": "stdout",
     "output_type": "stream",
     "text": [
      "Euclidean distance: 1000.0, Manhattan distance: 10000\n"
     ]
    }
   ],
   "source": [
    "x = np.array(range(100))\n",
    "y = np.array(range(100, 200))\n",
    "dist_euclidean = distance(x, y, 'Euclidean')\n",
    "dist_manhattan = distance(x, y, 'Manhattan')\n",
    "print('Euclidean distance: {}, Manhattan distance: {}'.format(dist_euclidean, dist_manhattan))"
   ]
  },
  {
   "cell_type": "markdown",
   "metadata": {},
   "source": [
    "## TASK 2: Implement *k*-NN Class Methods"
   ]
  },
  {
   "cell_type": "markdown",
   "metadata": {},
   "source": [
    "We can start implementing our *k*-NN classifier. *k*-NN class inherits Model class. Use the \"distance\" function you defined above. \"fit\" method takes *k* as an argument. \"predict\" takes as input an *mxd* array containing *d*-dimensional *m* feature vectors for examples and for each input point outputs the predicted class and the ratio of positive examples in *k* nearest neighbors."
   ]
  },
  {
   "cell_type": "markdown",
   "metadata": {},
   "source": [
    "### Rubric:\n",
    "* correct implementation of fit method +10, +10\n",
    "* correct implementation of predict method +25, +20"
   ]
  },
  {
   "cell_type": "code",
   "execution_count": 12,
   "metadata": {
    "collapsed": true
   },
   "outputs": [],
   "source": [
    "class kNN(Model):\n",
    "    '''\n",
    "    Inherits Model class. Implements the k-NN algorithm for classification.\n",
    "    '''\n",
    "       \n",
    "    def fit(self, training_features, training_labels, k, distance_f,**kwargs):\n",
    "        '''\n",
    "        Fit the model. This is pretty straightforward for k-NN.\n",
    "        Args:\n",
    "            training_features: ndarray\n",
    "            training_labels: ndarray\n",
    "            k: int\n",
    "            distance_f: function\n",
    "            kwargs: dict\n",
    "                Contains keyword arguments that will be passed to distance_f\n",
    "        '''\n",
    "        # TODO\n",
    "        # set self.train_features, self.train_labels, self.k, self.distance_f, self.distance_metric\n",
    "        self.train_features = training_features\n",
    "        self.train_labels   = training_labels\n",
    "        self.k              = k\n",
    "        self.distance_f     = distance_f\n",
    "        self.distance_metric= kwargs\n",
    "        #raise NotImplementedError\n",
    "\n",
    "        return\n",
    "    \n",
    "    \n",
    "    def predict(self, test_features):\n",
    "        '''\n",
    "        Args:\n",
    "            test_features: ndarray\n",
    "                mxd array containing features for the points to be predicted\n",
    "        Returns: \n",
    "            preds: ndarray\n",
    "                mx1 array containing proportion of positive class among k nearest neighbors of each test point\n",
    "        '''\n",
    "        #raise NotImplementedError\n",
    "        \n",
    "        # TODO\n",
    "        \n",
    "        # for each point \n",
    "        # use your implementation of distance function\n",
    "        #  distance_f(..., distance_metric)\n",
    "        # to find the labels of k-nearest neighbors. \n",
    "    \n",
    "        # You'll need proportion of positive examples\n",
    "        # in k nearest neighbors\n",
    "        \n",
    "        \n",
    "        preds = []\n",
    "\n",
    "        for x in test_features:\n",
    "            ListLabels=[]\n",
    "            d = 0\n",
    "            testDistance= []\n",
    "            count = 0\n",
    "            ListLabels = self.train_labels \n",
    "            for y in self.train_features:\n",
    "                # D is distance betweern 2 points\n",
    "                d = distance(x,y, self.distance_metric['metric'])\n",
    "                testDistance.append(d)\n",
    "            \n",
    "            testDistance, ListLabels = zip(*sorted(zip(testDistance, ListLabels)))\n",
    "            k_labels = []\n",
    "            for i in range(self.k):\n",
    "                k_labels.append(ListLabels[i])\n",
    "                \n",
    "            positiveCount = 0\n",
    "            for a in k_labels:\n",
    "                if a == 1.0:\n",
    "                    positiveCount += 1\n",
    "            \n",
    "            preds.append(positiveCount/self.k)\n",
    "      \n",
    "        return preds\n",
    "    "
   ]
  },
  {
   "cell_type": "markdown",
   "metadata": {},
   "source": [
    "## TASK 3: Build and Evaluate the Model"
   ]
  },
  {
   "cell_type": "markdown",
   "metadata": {},
   "source": [
    "### Rubric:\n",
    "* Reasonable accuracy values +10, +5\n",
    "* Reasonable confidence intervals on the error estimate +10, +10\n",
    "* Reasonable confusion matrix +5, +5"
   ]
  },
  {
   "cell_type": "markdown",
   "metadata": {},
   "source": [
    "Preprocess the data files and partition the data."
   ]
  },
  {
   "cell_type": "code",
   "execution_count": 13,
   "metadata": {
    "collapsed": true
   },
   "outputs": [],
   "source": [
    "# initialize the model\n",
    "my_model = kNN()\n",
    "\n",
    "# obtain features and labels from files\n",
    "features, labels = preprocess(feature_file='../data/madelon.data', label_file= '../data/madelon.labels')\n",
    "\n",
    "# get class names (unique entries in labels)\n",
    "classes = np.unique(labels)\n",
    "\n",
    "# partition the data set\n",
    "test_indices,val_indices, train_indices = partition(size=len(features), t = 0.3, v = 0.1)"
   ]
  },
  {
   "cell_type": "markdown",
   "metadata": {},
   "source": [
    "Assign a value to *k* and fit the *k*-NN model."
   ]
  },
  {
   "cell_type": "code",
   "execution_count": 22,
   "metadata": {
    "collapsed": true
   },
   "outputs": [],
   "source": [
    "# pass the training features and labels to the fit method\n",
    "kwargs_f = {'metric': 'Euclidean'}\n",
    "my_model.fit(training_features= features[train_indices], training_labels= labels[train_indices], k=10, distance_f=distance, **kwargs_f)"
   ]
  },
  {
   "cell_type": "markdown",
   "metadata": {},
   "source": [
    "### Computing the confusion matrix for *k* = 10\n",
    "Now that we have the true labels and the predicted ones from our model, we can build a confusion matrix and see how accurate our model is. Implement the \"conf_matrix\" function (in model.ipynb) that takes as input an array of true labels (*true*) and an array of predicted labels (*pred*). It should output a numpy.ndarray. You do not need to change the value of the threshold parameter yet."
   ]
  },
  {
   "cell_type": "code",
   "execution_count": 23,
   "metadata": {},
   "outputs": [
    {
     "data": {
      "text/plain": [
       "array([[ 214.,   84.],\n",
       "       [  73.,  229.]])"
      ]
     },
     "execution_count": 23,
     "metadata": {},
     "output_type": "execute_result"
    }
   ],
   "source": [
    "# TODO\n",
    "\n",
    "# get model predictions\n",
    "pred_ratios = my_model.predict(features[test_indices])\n",
    "\n",
    "# For now, we will consider a data point as predicted in positive class if more than 0.5 \n",
    "# of its k-neighbors are positive examples.\n",
    "threshold = 0.5\n",
    "# convert predicted ratios to predicted labels\n",
    "#List of labels will contain +1 and -1 by comparing with the Threshold value if greater than threshold value then it will be +1 and opposite \n",
    "List_pred_labels = []\n",
    "counter = 0\n",
    "for i in range (0,len(pred_ratios)):\n",
    "    if (pred_ratios[i] < threshold):\n",
    "        List_pred_labels.insert(counter,-1)\n",
    "    else:\n",
    "        List_pred_labels.insert(counter,1)\n",
    "    counter += 1\n",
    "pred_labels = List_pred_labels\n",
    "\n",
    "# show the distribution of predicted and true labels in a confusion matrix\n",
    "confusion = conf_matrix(labels[test_indices],pred_labels,2)\n",
    "confusion"
   ]
  },
  {
   "cell_type": "markdown",
   "metadata": {},
   "source": [
    "Evaluate your model on the test data and report your **accuracy**. Also, calculate and report the 95% confidence interval on the generalization **error** estimate."
   ]
  },
  {
   "cell_type": "code",
   "execution_count": 24,
   "metadata": {},
   "outputs": [
    {
     "name": "stdout",
     "output_type": "stream",
     "text": [
      "Accuracy: 0.7383333333333333\n",
      "Confidence interval: 0.2264959769547089-0.2968373563786245\n"
     ]
    }
   ],
   "source": [
    "import math\n",
    "# TODO\n",
    "# Calculate and report accuracy and generalization error with confidence interval here. Show your work in this cell.\n",
    "# follow equation that provide in the announcement on canvas we find confidence interval. Accuracy is from lecture slides\n",
    "accuracy = (confusion[0][0] + confusion[1][1]) / (len(pred_labels))\n",
    "error = 1 - accuracy\n",
    "Standard_error = math.sqrt((error*(1-error))/ len(pred_labels))\n",
    "#95% confidence interval means z score is 1.96\n",
    "z_score = 1.96\n",
    "lower_bound = error - (z_score * Standard_error)\n",
    "upper_bound = error + (z_score * Standard_error)\n",
    "print('Accuracy: {}'.format(accuracy))\n",
    "print('Confidence interval: {}-{}'.format(lower_bound, upper_bound))"
   ]
  },
  {
   "cell_type": "markdown",
   "metadata": {},
   "source": [
    "## TASK 4: Determining *k*"
   ]
  },
  {
   "cell_type": "markdown",
   "metadata": {},
   "source": [
    "### Rubric:\n",
    "* Accuracies reported with various *k* values +5, +5\n",
    "* Confusion matrix for new *k* +5, +5"
   ]
  },
  {
   "cell_type": "markdown",
   "metadata": {},
   "source": [
    "We can use the validation set to come up with a *k* value that results in better performance in terms of accuracy.\n",
    "\n",
    "Below calculate the accuracies for different values of *k* using the validation set. Report a good *k* value and use it in the analyses that follow this section. Report confusion matrix for the new value of *k*."
   ]
  },
  {
   "cell_type": "code",
   "execution_count": null,
   "metadata": {},
   "outputs": [],
   "source": [
    "# TODO\n",
    "\n",
    "# Change values of k. \n",
    "# Calculate accuracies for the validation set.\n",
    "# Report a good k value.\n",
    "# Calculate the confusion matrix for new k\n",
    "\n",
    "# in this case, I will test the value of K from 1 to 50. Assume the threshold is 0.5\n",
    "\n",
    "new_accuracy = 0\n",
    "new_k = 0 \n",
    "success_comparison_count = 0\n",
    "for i in range (1,10):\n",
    "    kwargs_f = {'metric': 'Euclidean'}\n",
    "    my_model.fit(training_features= features[train_indices], training_labels= labels[train_indices], k=i, distance_f=distance, **kwargs_f)\n",
    "    pred_ratios = my_model.predict(features[val_indices])\n",
    "    threshold = 0.5\n",
    "    List_pred_labels = []\n",
    "    for i in pred_ratios:\n",
    "        if (i < threshold):\n",
    "            List_pred_labels.append(-1)\n",
    "        else:\n",
    "            List_pred_labels.append(1)\n",
    "    np.array(List_pred_labels)\n",
    "    confusion = conf_matrix(labels[val_indices],pred_labels,2)\n",
    "    accuracy = ((confusion[0][0] + confusion[1][1]) / len(pred_labels))\n",
    "    print(\"Accuracy at k {}: {}\".format(i,accuracy))\n",
    "    if (accuracy > new_accuracy):\n",
    "        new_accuracy = accuracy\n",
    "        new_k = i \n",
    "        success_comparison_count += 1\n",
    "        \n",
    "print ('At K is:',new_k)\n",
    "print ('We get the highest accuracy is:', new_accuracy)\n",
    "print ('The number of times we find a better accuracy is:', success_comparison_count)"
   ]
  },
  {
   "cell_type": "markdown",
   "metadata": {},
   "source": [
    "## TASK 5: ROC curve analysis\n",
    "* Correct implementation +25, +25"
   ]
  },
  {
   "cell_type": "markdown",
   "metadata": {},
   "source": [
    "ROC curves are a good way to visualize sensitivity vs. 1-specificity for varying cut off points. Now, implement, in **model.ipynb**, a \"ROC\" function. \"ROC\" takes a list containing different threshold values to try and returns two arrays; one where each entry is the sensitivity at a given threshold and the other where entries are 1-specificities."
   ]
  },
  {
   "cell_type": "markdown",
   "metadata": {},
   "source": [
    "Use the *k* value you found above, if you completed TASK 4, else use *k* = 10 to plot the ROC curve for values between 0.1 and 1.0."
   ]
  },
  {
   "cell_type": "code",
   "execution_count": 21,
   "metadata": {
    "scrolled": true
   },
   "outputs": [
    {
     "data": {
      "image/png": "[encoded data removed]",
      "text/plain": [
       "<matplotlib.figure.Figure at 0x2bc571d5908>"
      ]
     },
     "metadata": {},
     "output_type": "display_data"
    }
   ],
   "source": [
    "# TODO\n",
    "# ROC curve\n",
    "roc_sens, roc_spec_ = ROC(true_labels=labels[test_indices], preds=pred_ratios, value_list= np.arange(0.1, 1.0, 0.1))\n",
    "plt.plot(roc_spec_,  roc_sens)\n",
    "plt.show()\n"
   ]
  },
  {
   "cell_type": "markdown",
   "metadata": {},
   "source": [
    "## TASK 6: Assess suitability of *k*-NN to your dataset\n",
    "* +10, +10"
   ]
  },
  {
   "cell_type": "markdown",
   "metadata": {},
   "source": [
    "Insert a cell below to write about your understanding of why *k*-NN performed well if it did or why not if it didn't. What properties of the dataset could have affected the performance of the algorithm?"
   ]
  },
  {
   "cell_type": "code",
   "execution_count": 8,
   "metadata": {},
   "outputs": [
    {
     "name": "stdout",
     "output_type": "stream",
     "text": [
      "1000\n",
      "1000\n"
     ]
    }
   ],
   "source": [
    "one_amount = 0\n",
    "negOne_amount = 0\n",
    "for i in labels:\n",
    "    if i == -1:\n",
    "        one_amount += 1\n",
    "    else:\n",
    "        negOne_amount += 1\n",
    "print(one_amount)\n",
    "print(negOne_amount)"
   ]
  },
  {
   "cell_type": "markdown",
   "metadata": {},
   "source": [
    "There are several reasons to why k-NN is an appropriate machine learning algorithm for this dataset. First, as you can see from above the distribution of the two classes, 1 and -1, are evenly distributed. This make it so that there is one class that is disporpotional larger than another, and therefore effecting the predictability. Also since this is a binary classification problem, basing. The size of the dataset also matters.Given that this was a relatively small dataset, the runtime on this was not particularly long. But if the dataset was in the range of mabye 100,000 above, the time for this program will likely increase, given that this kNN require each datapoint to be compared with all of the training dataset. Given that the features in the dataset are have only differences around 100, there might have been some rows that have a similar distance for both labels 1 and -1 making the set harder to predict. "
   ]
  },
  {
   "cell_type": "code",
   "execution_count": null,
   "metadata": {
    "collapsed": true
   },
   "outputs": [],
   "source": []
  }
 ],
 "metadata": {
  "kernelspec": {
   "display_name": "Python 3",
   "language": "python",
   "name": "python3"
  },
  "language_info": {
   "codemirror_mode": {
    "name": "ipython",
    "version": 3
   },
   "file_extension": ".py",
   "mimetype": "text/x-python",
   "name": "python",
   "nbconvert_exporter": "python",
   "pygments_lexer": "ipython3",
   "version": "3.6.3"
  }
 },
 "nbformat": 4,
 "nbformat_minor": 2
}
